{
 "cells": [
  {
   "cell_type": "markdown",
   "metadata": {},
   "source": [
    "ChaoTang\n"
   ]
  },
  {
   "cell_type": "markdown",
   "metadata": {},
   "source": [
    "# Practical 7 - Part 2A\n",
    "This project explores the geometry of a single camera. The aim is to take several points on\n",
    "a plane, and predict where they will appear in the camera image. Based on these observed\n",
    "points, we will then try to re-estimate the Euclidean transformation relating the plane and\n",
    "the camera. In practical 2B we will use this code to draw a wireframe cube\n",
    "on an augmented reality marker.   You should use this\n",
    "template for your code and fill in the missing sections marked \"TO DO\""
   ]
  },
  {
   "cell_type": "markdown",
   "metadata": {},
   "source": [
    "# Import libraries "
   ]
  },
  {
   "cell_type": "code",
   "execution_count": 4,
   "metadata": {},
   "outputs": [],
   "source": [
    "%matplotlib inline\n",
    "import os \n",
    "import numpy as np\n",
    "import matplotlib.pyplot as plt\n",
    "import scipy.io as sio"
   ]
  },
  {
   "cell_type": "markdown",
   "metadata": {},
   "source": [
    "# TO DO - fill in projectiveCamera and estimatePlanePose functions  (you will have to utilise your solutions for solveAXEqualsZero and calcBestHomography from Part 1)"
   ]
  },
  {
   "cell_type": "code",
   "execution_count": 5,
   "metadata": {},
   "outputs": [],
   "source": [
    "def solveAXEqualsZero(A):\n",
    "    # TO DO: Write this routine - it should solve Ah = 0   \n",
    "    U,L,VT = np.linalg.svd(A)\n",
    "    VRow,Vcol = VT.shape\n",
    "    h = VT[VRow -1,:]\n",
    "    return h"
   ]
  },
  {
   "cell_type": "code",
   "execution_count": 6,
   "metadata": {},
   "outputs": [],
   "source": [
    "# This function should apply the direct linear transform (DLT) algorithm to calculate the best \n",
    "# homography that maps the points in pts1Cart to their corresonding matching in pts2Cart\n",
    "def calcBestHomography(pts1Cart, pts2Cart):    \n",
    "    # TO DO: replace this\n",
    "    # H = \n",
    "    \n",
    "    # TO DO: \n",
    "    # First convert points into homogeneous representation\n",
    "    pts1Hom = np.concatenate((pts1Cart, np.ones((1,pts1Cart.shape[1]))), axis=0)\n",
    "    pts2Hom = np.concatenate((pts2Cart, np.ones((1,pts1Cart.shape[1]))), axis=0)\n",
    "    \n",
    "    # Then construct the matrix A, size (2 * n_points,9)\n",
    "    n_point, = pts1Cart[0,:].shape\n",
    "    A = np.zeros((2 * n_point,9))\n",
    "    \n",
    "    for cpoint in range(n_point):\n",
    "        currentVec1 = pts1Hom[:,cpoint]\n",
    "        currentVec2 = pts2Hom[:,cpoint]\n",
    "        \n",
    "        A[2 * cpoint,:] = [0,0,0,-currentVec1[0],-currentVec1[1],-1,currentVec1[0]*currentVec2[1],currentVec1[1]*currentVec2[1],currentVec2[1]]\n",
    "        A[2 * cpoint+1,:] = [currentVec1[0],currentVec1[1],1,0,0,0,-currentVec2[0]*currentVec1[0],-currentVec2[0]*currentVec1[1],-currentVec2[0]]\n",
    "    \n",
    "    # Solve Ah = 0\n",
    "    h = solveAXEqualsZero(A)\n",
    "    # Reshape h into the matrix H, values of h go first into rows of H\n",
    "    H = np.reshape(h,(3,3))\n",
    "    return H"
   ]
  },
  {
   "cell_type": "code",
   "execution_count": 7,
   "metadata": {},
   "outputs": [],
   "source": [
    "#The goal of this function is to project points in XCart through projective camera\n",
    "#defined by intrinsic matrix K and extrinsic matrix T.\n",
    "def projectiveCamera(K,T,XCart):\n",
    "    \n",
    "    # TO DO: Replace this\n",
    "    # XImCart =\n",
    "    # TO DO: Convert Cartesian 3d points XCart to homogeneous coordinates XHom \n",
    "    ndim,ndata = XCart.shape\n",
    "    hzero = np.ones(ndata)\n",
    "    XHom = np.vstack((XCart,hzero))\n",
    "    # TO DO: Apply extrinsic matrix to XHom, to move to frame of reference of camera\n",
    "    FCamera = T @ XHom\n",
    "    # TO DO: Project points into normalized camera coordinates xCamHom (remove 4th row)\n",
    "    xCamHom = FCamera[0:3,:]\n",
    "    # TO DO: Move points to image coordinates xImHom by applying intrinsic matrix\n",
    "    xImHom = K @ xCamHom\n",
    "    # TO DO: Convert points back to Cartesian coordinates xImCart\n",
    "    XImCart_old = xImHom / xImHom[2,:]\n",
    "    XImCart = XImCart_old[0:2,:]\n",
    "    \n",
    "    return XImCart\n"
   ]
  },
  {
   "cell_type": "code",
   "execution_count": 13,
   "metadata": {},
   "outputs": [],
   "source": [
    "# Goal of function is to estimate pose of plane relative to camera (extrinsic matrix)\n",
    "# given points in image xImCart, points in world XCart and intrinsic matrix K\n",
    "\n",
    "def estimatePlanePose(XImCart,XCart,K):\n",
    "\n",
    "    # TO DO: replace this\n",
    "    # T = \n",
    "\n",
    "    # TO DO: Convert Cartesian image points XImCart to homogeneous representation XImHom\n",
    "    ndim,ndata = XImCart.shape\n",
    "    hzero = np.ones(ndata)\n",
    "    XImHom = np.vstack((XImCart,hzero))\n",
    "    \n",
    "    # TO DO: Convert image co-ordinates XImHom to normalized camera coordinates XCamHom    \n",
    "    XCamHom = np.linalg.inv(K) @ XImHom\n",
    "    \n",
    "    # TO DO: Estimate homography H mapping homogeneous (x,y) coordinates of positions\n",
    "    # in real world to XCamHom (convert XCamHom to Cartesian, calculate the homography) -\n",
    "    # use the routine you wrote for Practical 1B\n",
    "    H = calcBestHomography(XCart[0:2,:],XCamHom)\n",
    "          \n",
    "    # TO DO: Estimate first two columns of rotation matrix R from the first two\n",
    "    # columns of H using the SVD       \n",
    "    A = H[:,0:2]\n",
    "    U,L,VT = np.linalg.svd(A)\n",
    "    R = np.zeros((3,3))\n",
    "    Temp = np.array([[1,0],[0,1],[0,0]])\n",
    "    R[:,0:2] = U @Temp @ VT\n",
    "    # TO DO: Estimate the third column of the rotation matrix by taking the cross\n",
    "    # product of the first two columns\n",
    "    R[:,2] = np.cross(R[:,0],R[:,1])\n",
    "        \n",
    "    # TO DO: Check that the determinant of the rotation matrix is positive - if\n",
    "    # not then multiply last column by -1.\n",
    "    Condition = np.linalg.det(R)\n",
    "    if Condition <= 0:\n",
    "        R[:,2] = -R[:,2]\n",
    "    \n",
    "    # TO DO: Estimate the translation t by finding the appropriate scaling factor k\n",
    "    # and applying it to the third colulmn of H\n",
    "    k = 0\n",
    "    for m in range(3):\n",
    "        for n in range(2):\n",
    "            k = k + H[m,n]/R[m,n]\n",
    "            print('m,n = ',m,n)\n",
    "    k = k/6\n",
    "    print('k = ',k)\n",
    "    Tao = np.zeros((3,1))\n",
    "    Tao[:,0] = H[:,2]/k\n",
    "    \n",
    "    # TO DO: Check whether t_z is negative - if it is then multiply t by -1 and\n",
    "    # the first two columns of R by -1.\n",
    "    if Tao[2,:] <0:\n",
    "        Tao = -Tao\n",
    "        R[:,0:2] = -R[:,0:2]\n",
    "    # TO DO: Assemble transformation into matrix form\n",
    "    T = np.hstack((R,Tao))\n",
    "    print(T)\n",
    "    \n",
    "    return T "
   ]
  },
  {
   "cell_type": "markdown",
   "metadata": {},
   "source": [
    "# Once you have completed these functions, use them to estimate the transformation from the plane co-ordinate system to the camera co-ordinate system (i.e. the extrinsic matrix)"
   ]
  },
  {
   "cell_type": "code",
   "execution_count": 16,
   "metadata": {},
   "outputs": [
    {
     "name": "stdout",
     "output_type": "stream",
     "text": [
      "[[267.4170882  230.95045427 531.42492013 482.36049098 378.77537982]\n",
      " [396.26814909 288.11435494 237.83410247 358.39940241 329.44079538]]\n",
      "m,n =  0 0\n",
      "m,n =  0 1\n",
      "m,n =  1 0\n",
      "m,n =  1 1\n",
      "m,n =  2 0\n",
      "m,n =  2 1\n",
      "k =  0.0019828500731162006\n",
      "[[ 9.85321598e-01 -4.91760877e-02  1.63471896e-01  4.60552660e+01]\n",
      " [-1.63061346e-01 -5.54529578e-01  8.16031828e-01  6.96478752e+01]\n",
      " [ 5.05207490e-02 -8.30709732e-01 -5.54408689e-01  4.97362427e+02]]\n"
     ]
    }
   ],
   "source": [
    "# We assume that the intrinsic camera matrix K is known and has values\n",
    "K = np.array([[640, 0, 320],\n",
    "             [0, 640, 240],\n",
    "             [0, 0, 1]])\n",
    "\n",
    "# We will assume an object co-ordinate system with the Z-axis pointing upwards and the origin\n",
    "# in the centre of the plane. There are four known points on the plane with coordinates (mm):\n",
    "XCart = np.array([[-100, -100,  100,  100, 0],\n",
    "                  [-100,  100,  100, -100, 0],\n",
    "                  [   0,    0,    0,    0, 0]])\n",
    "\n",
    "\n",
    "# We assume the correct transformation from the plane co-ordinate system to the\n",
    "# camera co-ordinate system (extrinsic matrix) is:\n",
    "T = np.array([[0.9851,  -0.0492,  0.1619,  46.00],\n",
    "             [-0.1623,  -0.5520,  0.8181,  70.00],\n",
    "             [0.0490,  -0.8324, -0.5518,  500.89],\n",
    "             [0,        0,       0,       1]])\n",
    "\n",
    "# TO DO: Use the general pin-hole projective camera model discussed in the lectures to estimate \n",
    "# where the four points on the plane will appear in the image.  Fill in the\n",
    "# details of the function \"projectiveCamera\" - body of function appears below:\n",
    "\n",
    "XImCart = projectiveCamera(K,T,XCart)\n",
    "print(XImCart)\n",
    "# TO DO: Add noise (standard deviation of one pixel in each direction) to the pixel positions\n",
    "# to simulate having to find these points in a noisy image. Store the results back in xImCart\n",
    "ndim,ndata = XImCart.shape\n",
    "for iteration in range(ndata):\n",
    "    XImCart[:,iteration] = XImCart[:,iteration] + np.random.normal(0,1,ndim)\n",
    "\n",
    "# TO DO: Now we will take the image points and the known positions on the card and estimate  \n",
    "# the extrinsic matrix using the algorithm discussed in the lecture.  Fill in the details of \n",
    "# the function \"estimate plane pose\"\n",
    "TEst = estimatePlanePose(XImCart,XCart,K)\n",
    "# If you have got this correct, Test should closely resemble T above"
   ]
  },
  {
   "cell_type": "markdown",
   "metadata": {},
   "source": [
    "## Comments:\n",
    "we used the points coordinates in image,points coordinates in world and intrinsic matrix K to estimate the extrinsic matrix here.We can see the errors between the estimate result and the reference T are small."
   ]
  }
 ],
 "metadata": {
  "kernelspec": {
   "display_name": "Python 3",
   "language": "python",
   "name": "python3"
  },
  "language_info": {
   "codemirror_mode": {
    "name": "ipython",
    "version": 3
   },
   "file_extension": ".py",
   "mimetype": "text/x-python",
   "name": "python",
   "nbconvert_exporter": "python",
   "pygments_lexer": "ipython3",
   "version": "3.7.0"
  }
 },
 "nbformat": 4,
 "nbformat_minor": 1
}
